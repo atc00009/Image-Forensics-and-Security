{
  "cells": [
    {
      "cell_type": "code",
      "source": [
        "'''\n",
        "from google.colab import drive\n",
        "drive.mount('/content/drive')\n",
        "'''"
      ],
      "metadata": {
        "id": "7vEztSFb89_-",
        "colab": {
          "base_uri": "https://localhost:8080/",
          "height": 36
        },
        "outputId": "211bc3ad-a6c6-469d-e922-3526cdc73e23"
      },
      "execution_count": 25,
      "outputs": [
        {
          "output_type": "execute_result",
          "data": {
            "text/plain": [
              "\"\\nfrom google.colab import drive\\ndrive.mount('/content/drive')\\n\""
            ],
            "application/vnd.google.colaboratory.intrinsic+json": {
              "type": "string"
            }
          },
          "metadata": {},
          "execution_count": 25
        }
      ]
    },
    {
      "cell_type": "code",
      "source": [
        "#cd /content/drive/MyDrive/watermarking"
      ],
      "metadata": {
        "id": "wZr_vVng9fIh"
      },
      "execution_count": 26,
      "outputs": []
    },
    {
      "cell_type": "code",
      "execution_count": 27,
      "metadata": {
        "id": "Cb-Jx6lA2wUg"
      },
      "outputs": [],
      "source": [
        "from skimage import io,img_as_float\n",
        "import matplotlib.pyplot as plt\n",
        "import numpy as np\n",
        "import os\n",
        "import cv2\n",
        "import tensorflow as tf\n",
        "import pandas as pd\n",
        "import scipy"
      ]
    },
    {
      "cell_type": "code",
      "execution_count": 28,
      "metadata": {
        "id": "A38htanRBdbv"
      },
      "outputs": [],
      "source": [
        "path='./Images'\n",
        "dataset=[]\n",
        "for img in os.scandir(path):\n",
        "    dataset.append((img.name,img.path))"
      ]
    },
    {
      "cell_type": "code",
      "source": [
        "import numpy as np\n",
        "import pywt\n",
        "import os\n",
        "from PIL import Image\n",
        "from scipy.fftpack import dct\n",
        "from scipy.fftpack import idct\n",
        "\n",
        "watermark = 'mark.png' "
      ],
      "metadata": {
        "id": "1-8ZuAb_Bf6U"
      },
      "execution_count": 29,
      "outputs": []
    },
    {
      "cell_type": "code",
      "source": [
        "\n",
        "\n",
        "def convert_image(img_path, size):\n",
        "    img = Image.open(img_path).resize((size, size), 1)\n",
        "    img = img.convert('L')\n",
        "    image_array = np.array(img.getdata(), dtype=np.float).reshape((size, size))\n",
        "    print(image_array[0][0])           \n",
        "    print(image_array[10][10])           \n",
        "    return image_array"
      ],
      "metadata": {
        "id": "drd3_lvW_2XB"
      },
      "execution_count": 30,
      "outputs": []
    },
    {
      "cell_type": "code",
      "source": [
        "def process_coefficients(imArray, model, level):\n",
        "    coeffs=pywt.wavedec2(data = imArray, wavelet = model, level = level)\n",
        "    # print coeffs[0].__len__()\n",
        "    coeffs_H=list(coeffs) \n",
        "   \n",
        "    return coeffs_H\n"
      ],
      "metadata": {
        "id": "0YnpNO-2AheZ"
      },
      "execution_count": 31,
      "outputs": []
    },
    {
      "cell_type": "code",
      "source": [
        "\n",
        "def embed_mod2(coeff_image, coeff_watermark, offset=0):\n",
        "    for i in xrange(coeff_watermark.__len__()):\n",
        "        for j in xrange(coeff_watermark[i].__len__()):\n",
        "            coeff_image[i*2+offset][j*2+offset] = coeff_watermark[i][j]\n",
        "\n",
        "    return coeff_image"
      ],
      "metadata": {
        "id": "GR1U3MPLAfIz"
      },
      "execution_count": 32,
      "outputs": []
    },
    {
      "cell_type": "code",
      "source": [
        "def embed_mod4(coeff_image, coeff_watermark):\n",
        "    for i in xrange(coeff_watermark.__len__()):\n",
        "        for j in xrange(coeff_watermark[i].__len__()):\n",
        "            coeff_image[i*4][j*4] = coeff_watermark[i][j]\n",
        "\n",
        "    return coeff_image"
      ],
      "metadata": {
        "id": "Wyp3Lx0mAddO"
      },
      "execution_count": 33,
      "outputs": []
    },
    {
      "cell_type": "code",
      "source": [
        "def embed_watermark(watermark_array, orig_image):\n",
        "    watermark_array_size = watermark_array[0].__len__()\n",
        "    watermark_flat = watermark_array.ravel()\n",
        "    ind = 0\n",
        "\n",
        "    for x in range (0, orig_image.__len__(), 8):\n",
        "        for y in range (0, orig_image.__len__(), 8):\n",
        "            if ind < watermark_flat.__len__():\n",
        "                subdct = orig_image[x:x+8, y:y+8]\n",
        "                subdct[5][5] = watermark_flat[ind]\n",
        "                orig_image[x:x+8, y:y+8] = subdct\n",
        "                ind += 1 \n",
        "\n",
        "\n",
        "    return orig_image"
      ],
      "metadata": {
        "id": "QAj42zf-ATyj"
      },
      "execution_count": 34,
      "outputs": []
    },
    {
      "cell_type": "code",
      "source": [
        "\n",
        "def apply_dct(image_array):\n",
        "    size = image_array[0].__len__()\n",
        "    all_subdct = np.empty((size, size))\n",
        "    for i in range (0, size, 8):\n",
        "        for j in range (0, size, 8):\n",
        "            subpixels = image_array[i:i+8, j:j+8]\n",
        "            subdct = dct(dct(subpixels.T, norm=\"ortho\").T, norm=\"ortho\")\n",
        "            all_subdct[i:i+8, j:j+8] = subdct\n",
        "\n",
        "    return all_subdct\n"
      ],
      "metadata": {
        "id": "IaNLS1M2AT4T"
      },
      "execution_count": 35,
      "outputs": []
    },
    {
      "cell_type": "code",
      "source": [
        "\n",
        "def inverse_dct(all_subdct):\n",
        "    size = all_subdct[0].__len__()\n",
        "    all_subidct = np.empty((size, size))\n",
        "    for i in range (0, size, 8):\n",
        "        for j in range (0, size, 8):\n",
        "            subidct = idct(idct(all_subdct[i:i+8, j:j+8].T, norm=\"ortho\").T, norm=\"ortho\")\n",
        "            all_subidct[i:i+8, j:j+8] = subidct\n",
        "\n",
        "    return all_subidct"
      ],
      "metadata": {
        "id": "F7UawOjDAT_U"
      },
      "execution_count": 36,
      "outputs": []
    },
    {
      "cell_type": "code",
      "source": [
        "def get_watermark(dct_watermarked_coeff, watermark_size):\n",
        "    \n",
        "    subwatermarks = []\n",
        "\n",
        "    for x in range (0, dct_watermarked_coeff.__len__(), 8):\n",
        "        for y in range (0, dct_watermarked_coeff.__len__(), 8):\n",
        "            coeff_slice = dct_watermarked_coeff[x:x+8, y:y+8]\n",
        "            subwatermarks.append(coeff_slice[5][5])\n",
        "\n",
        "    watermark = np.array(subwatermarks).reshape(watermark_size, watermark_size)\n",
        "\n",
        "    return watermark"
      ],
      "metadata": {
        "id": "66EbD5O7ARRe"
      },
      "execution_count": 37,
      "outputs": []
    },
    {
      "cell_type": "code",
      "source": [
        "def recover_watermark(image_array, model='haar', level = 1, img_name=\"\"):\n",
        "\n",
        "\n",
        "    coeffs_watermarked_image = process_coefficients(image_array, model, level=level)\n",
        "    dct_watermarked_coeff = apply_dct(coeffs_watermarked_image[0])\n",
        "    \n",
        "    watermark_array = get_watermark(dct_watermarked_coeff, 128)\n",
        "\n",
        "    watermark_array =  np.uint8(watermark_array)\n",
        "\n",
        "#Save result\n",
        "    img = Image.fromarray(watermark_array)\n",
        "    img.save('./ExtractedImages/'+img_name)"
      ],
      "metadata": {
        "id": "0Bhq_Y_7APzb"
      },
      "execution_count": 38,
      "outputs": []
    },
    {
      "cell_type": "code",
      "source": [
        "def print_image_from_array(image_array, name):\n",
        "  \n",
        "    image_array_copy = image_array.clip(0, 255)\n",
        "    image_array_copy = image_array_copy.astype(\"uint8\")\n",
        "    img = Image.fromarray(image_array_copy)\n",
        "    img.save('./output/' + name)"
      ],
      "metadata": {
        "id": "mGzIcOXAAIZh"
      },
      "execution_count": 39,
      "outputs": []
    },
    {
      "cell_type": "code",
      "source": [
        "def w2d(image):\n",
        "    model = 'haar'\n",
        "    level = 1\n",
        "    image_array = convert_image(image[1], 2048)\n",
        "    watermark_array = convert_image(watermark, 128)\n",
        "\n",
        "    coeffs_image = process_coefficients(image_array, model, level=level)\n",
        "    dct_array = apply_dct(coeffs_image[0])\n",
        "    dct_array = embed_watermark(watermark_array, dct_array)\n",
        "    coeffs_image[0] = inverse_dct(dct_array)\n",
        "  \n",
        "\n",
        "# reconstruction\n",
        "    image_array_H=pywt.waverec2(coeffs_image, model)\n",
        "    print_image_from_array(image_array_H, image[0])\n",
        "\n",
        "\n",
        "\n",
        "# recover images\n",
        "    recover_watermark(image_array = image_array_H, model=model, level = level,img_name=image[0])\n"
      ],
      "metadata": {
        "id": "2iyqAAXGADy9"
      },
      "execution_count": 40,
      "outputs": []
    },
    {
      "cell_type": "code",
      "source": [
        "for img in dataset:\n",
        "  w2d(img)"
      ],
      "metadata": {
        "colab": {
          "base_uri": "https://localhost:8080/"
        },
        "id": "C8DuSSDFAGLW",
        "outputId": "605417e7-4d79-4988-bf60-1ab1ad08980d"
      },
      "execution_count": 41,
      "outputs": [
        {
          "output_type": "stream",
          "name": "stderr",
          "text": [
            "/usr/local/lib/python3.7/dist-packages/ipykernel_launcher.py:6: DeprecationWarning: `np.float` is a deprecated alias for the builtin `float`. To silence this warning, use `float` by itself. Doing this will not modify any behavior and is safe. If you specifically wanted the numpy scalar type, use `np.float64` here.\n",
            "Deprecated in NumPy 1.20; for more details and guidance: https://numpy.org/devdocs/release/1.20.0-notes.html#deprecations\n",
            "  \n"
          ]
        },
        {
          "output_type": "stream",
          "name": "stdout",
          "text": [
            "72.0\n",
            "23.0\n",
            "255.0\n",
            "255.0\n"
          ]
        }
      ]
    },
    {
      "cell_type": "code",
      "source": [
        ""
      ],
      "metadata": {
        "id": "vze69dnqCll9"
      },
      "execution_count": 41,
      "outputs": []
    }
  ],
  "metadata": {
    "accelerator": "GPU",
    "colab": {
      "collapsed_sections": [],
      "name": "Watermarking.ipynb",
      "provenance": []
    },
    "gpuClass": "standard",
    "kernelspec": {
      "display_name": "Python 3",
      "language": "python",
      "name": "python3"
    },
    "language_info": {
      "codemirror_mode": {
        "name": "ipython",
        "version": 3
      },
      "file_extension": ".py",
      "mimetype": "text/x-python",
      "name": "python",
      "nbconvert_exporter": "python",
      "pygments_lexer": "ipython3",
      "version": "3.8.5"
    }
  },
  "nbformat": 4,
  "nbformat_minor": 0
}