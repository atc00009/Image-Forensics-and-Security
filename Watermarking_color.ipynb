{
  "cells": [
    {
      "cell_type": "code",
      "source": [
        "\n",
        "from google.colab import drive\n",
        "drive.mount('/content/drive')\n"
      ],
      "metadata": {
        "id": "7vEztSFb89_-",
        "colab": {
          "base_uri": "https://localhost:8080/"
        },
        "outputId": "869d0ae4-b140-48d0-8141-903be48800eb"
      },
      "execution_count": null,
      "outputs": [
        {
          "output_type": "stream",
          "name": "stdout",
          "text": [
            "Mounted at /content/drive\n"
          ]
        }
      ]
    },
    {
      "cell_type": "code",
      "source": [
        "cd /content/drive/MyDrive/watermarking"
      ],
      "metadata": {
        "id": "wZr_vVng9fIh",
        "colab": {
          "base_uri": "https://localhost:8080/"
        },
        "outputId": "5fea7ff7-c4f8-4e96-f315-eb0194cf7cbf"
      },
      "execution_count": null,
      "outputs": [
        {
          "output_type": "stream",
          "name": "stdout",
          "text": [
            "/content/drive/MyDrive/watermarking\n"
          ]
        }
      ]
    },
    {
      "cell_type": "code",
      "execution_count": null,
      "metadata": {
        "id": "Cb-Jx6lA2wUg"
      },
      "outputs": [],
      "source": [
        "from skimage import io,img_as_float\n",
        "import matplotlib.pyplot as plt\n",
        "import numpy as np\n",
        "import os\n",
        "import cv2\n",
        "import tensorflow as tf\n",
        "import pandas as pd\n",
        "import scipy"
      ]
    },
    {
      "cell_type": "code",
      "execution_count": null,
      "metadata": {
        "id": "A38htanRBdbv"
      },
      "outputs": [],
      "source": [
        "path='./Images'\n",
        "dataset=[]\n",
        "for img in os.scandir(path):\n",
        "    dataset.append((img.name,img.path))"
      ]
    },
    {
      "cell_type": "code",
      "source": [
        "import numpy as np\n",
        "import pywt\n",
        "import os\n",
        "from PIL import Image\n",
        "from scipy.fftpack import dct\n",
        "from scipy.fftpack import idct\n",
        "\n",
        "watermark = 'mark.png' "
      ],
      "metadata": {
        "id": "1-8ZuAb_Bf6U"
      },
      "execution_count": null,
      "outputs": []
    },
    {
      "cell_type": "code",
      "source": [
        "\n",
        "\n",
        "def convert_image(img_path, size,channel=1):\n",
        "    img = Image.open(img_path).resize((size, size), 1)\n",
        "    if channel==1:\n",
        "      img = img.convert('L')\n",
        "    image_array = np.array(img.getdata(), dtype=np.float).reshape((size, size,channel))\n",
        "    #print(image_array[0][0])           \n",
        "    #print(image_array[10][10])           \n",
        "    return image_array"
      ],
      "metadata": {
        "id": "drd3_lvW_2XB"
      },
      "execution_count": null,
      "outputs": []
    },
    {
      "cell_type": "code",
      "source": [
        "def process_coefficients(imArray, model, level):\n",
        "    coeffs=pywt.wavedec2(data = imArray, wavelet = model, level = level)\n",
        "    # print coeffs[0].__len__()\n",
        "    coeffs_H=list(coeffs) \n",
        "   \n",
        "    return coeffs_H\n"
      ],
      "metadata": {
        "id": "0YnpNO-2AheZ"
      },
      "execution_count": null,
      "outputs": []
    },
    {
      "cell_type": "code",
      "source": [
        "\n",
        "def embed_mod2(coeff_image, coeff_watermark, offset=0):\n",
        "    for i in xrange(coeff_watermark.__len__()):\n",
        "        for j in xrange(coeff_watermark[i].__len__()):\n",
        "            coeff_image[i*2+offset][j*2+offset] = coeff_watermark[i][j]\n",
        "\n",
        "    return coeff_image"
      ],
      "metadata": {
        "id": "GR1U3MPLAfIz"
      },
      "execution_count": null,
      "outputs": []
    },
    {
      "cell_type": "code",
      "source": [
        "def embed_mod4(coeff_image, coeff_watermark):\n",
        "    for i in xrange(coeff_watermark.__len__()):\n",
        "        for j in xrange(coeff_watermark[i].__len__()):\n",
        "            coeff_image[i*4][j*4] = coeff_watermark[i][j]\n",
        "\n",
        "    return coeff_image"
      ],
      "metadata": {
        "id": "Wyp3Lx0mAddO"
      },
      "execution_count": null,
      "outputs": []
    },
    {
      "cell_type": "code",
      "source": [
        "def embed_watermark(watermark_array, orig_image):\n",
        "    watermark_array_size = watermark_array[0].__len__()\n",
        "    watermark_flat = watermark_array.ravel()\n",
        "    ind = 0\n",
        "\n",
        "    for x in range (0, orig_image.__len__(), 8):\n",
        "        for y in range (0, orig_image.__len__(), 8):\n",
        "            if ind < watermark_flat.__len__():\n",
        "                subdct = orig_image[x:x+8, y:y+8]\n",
        "                subdct[5][5] = watermark_flat[ind]\n",
        "                orig_image[x:x+8, y:y+8] = subdct\n",
        "                ind += 1 \n",
        "\n",
        "\n",
        "    return orig_image"
      ],
      "metadata": {
        "id": "QAj42zf-ATyj"
      },
      "execution_count": null,
      "outputs": []
    },
    {
      "cell_type": "code",
      "source": [
        "\n",
        "def apply_dct(image_array):\n",
        "    size = image_array[0].__len__()\n",
        "    all_subdct = np.empty((size, size))\n",
        "    for i in range (0, size, 8):\n",
        "        for j in range (0, size, 8):\n",
        "            subpixels = image_array[i:i+8, j:j+8]\n",
        "            subdct = dct(dct(subpixels.T, norm=\"ortho\").T, norm=\"ortho\")\n",
        "            all_subdct[i:i+8, j:j+8] = subdct\n",
        "\n",
        "    return all_subdct\n"
      ],
      "metadata": {
        "id": "IaNLS1M2AT4T"
      },
      "execution_count": null,
      "outputs": []
    },
    {
      "cell_type": "code",
      "source": [
        "\n",
        "def inverse_dct(all_subdct):\n",
        "    size = all_subdct[0].__len__()\n",
        "    all_subidct = np.empty((size, size))\n",
        "    for i in range (0, size, 8):\n",
        "        for j in range (0, size, 8):\n",
        "            subidct = idct(idct(all_subdct[i:i+8, j:j+8].T, norm=\"ortho\").T, norm=\"ortho\")\n",
        "            all_subidct[i:i+8, j:j+8] = subidct\n",
        "\n",
        "    return all_subidct"
      ],
      "metadata": {
        "id": "F7UawOjDAT_U"
      },
      "execution_count": null,
      "outputs": []
    },
    {
      "cell_type": "code",
      "source": [
        "def get_watermark(dct_watermarked_coeff, watermark_size):\n",
        "    \n",
        "    subwatermarks = []\n",
        "\n",
        "    for x in range (0, dct_watermarked_coeff.__len__(), 8):\n",
        "        for y in range (0, dct_watermarked_coeff.__len__(), 8):\n",
        "            coeff_slice = dct_watermarked_coeff[x:x+8, y:y+8]\n",
        "            subwatermarks.append(coeff_slice[5][5])\n",
        "\n",
        "    watermark = np.array(subwatermarks).reshape(watermark_size, watermark_size)\n",
        "\n",
        "    return watermark"
      ],
      "metadata": {
        "id": "66EbD5O7ARRe"
      },
      "execution_count": null,
      "outputs": []
    },
    {
      "cell_type": "code",
      "source": [
        "def recover_watermark(image_array, model='haar', level = 1, img_name=\"\"):\n",
        "\n",
        "\n",
        "    coeffs_watermarked_image = process_coefficients(image_array, model, level=level)\n",
        "    dct_watermarked_coeff = apply_dct(coeffs_watermarked_image[0])\n",
        "    \n",
        "    watermark_array = get_watermark(dct_watermarked_coeff, 128)\n",
        "\n",
        "    watermark_array =  np.uint8(watermark_array)\n",
        "\n",
        "#Save result\n",
        "    img = Image.fromarray(watermark_array)\n",
        "    img.save('./ExtractedImages/'+img_name)"
      ],
      "metadata": {
        "id": "0Bhq_Y_7APzb"
      },
      "execution_count": null,
      "outputs": []
    },
    {
      "cell_type": "code",
      "source": [
        "def print_image_from_array(image_array, name):\n",
        "  \n",
        "    image_array_copy = image_array.clip(0, 255)\n",
        "    image_array_copy = image_array_copy.astype(\"uint8\")\n",
        "    img = Image.fromarray(image_array_copy)\n",
        "    img.save('./output/' + name)"
      ],
      "metadata": {
        "id": "mGzIcOXAAIZh"
      },
      "execution_count": null,
      "outputs": []
    },
    {
      "cell_type": "code",
      "source": [
        "def w2d(image):\n",
        "    model = 'haar'\n",
        "    level = 1\n",
        "    image_array = convert_image(image[1], 2048,channel=3)\n",
        "    watermark_array = convert_image(watermark, 128)\n",
        "\n",
        "    coeffs_image = process_coefficients(image_array[:,:,0], model, level=level)\n",
        "    dct_array = apply_dct(coeffs_image[0])\n",
        "    dct_array = embed_watermark(watermark_array, dct_array)\n",
        "    coeffs_image[0] = inverse_dct(dct_array)\n",
        "  \n",
        "\n",
        "# reconstruction\n",
        "    image_array_H=pywt.waverec2(coeffs_image, model)\n",
        "    image_array[:,:,0]=image_array_H\n",
        "    print_image_from_array(image_array, image[0])\n",
        "\n",
        "\n",
        "\n",
        "# recover images\n",
        "    recover_watermark(image_array = image_array_H, model=model, level = level,img_name=image[0])\n"
      ],
      "metadata": {
        "id": "2iyqAAXGADy9"
      },
      "execution_count": null,
      "outputs": []
    },
    {
      "cell_type": "code",
      "source": [
        "import math\n",
        "import numpy as np\n",
        "\n",
        "def calculate_psnr(img1, img2):\n",
        "    # img1 and img2 have range [0, 255]\n",
        "    img1 = img1.astype(np.float64)\n",
        "    img2 = img2.astype(np.float64)\n",
        "    mse = np.mean((img1 - img2)**2)\n",
        "    if mse == 0:\n",
        "        return float('inf')\n",
        "    return 20 * math.log10(255.0 / math.sqrt(mse))\n",
        "\t\n"
      ],
      "metadata": {
        "id": "a5w-h1E_P_Ai"
      },
      "execution_count": null,
      "outputs": []
    },
    {
      "cell_type": "code",
      "source": [
        "import math\n",
        "import numpy as np\n",
        "import cv2\n",
        "\n",
        "def ssim(img1, img2):\n",
        "    C1 = (0.01 * 255)**2\n",
        "    C2 = (0.03 * 255)**2\n",
        "\n",
        "    img1 = img1.astype(np.float64)\n",
        "    img2 = img2.astype(np.float64)\n",
        "    kernel = cv2.getGaussianKernel(11, 1.5)\n",
        "    window = np.outer(kernel, kernel.transpose())\n",
        "\n",
        "    mu1 = cv2.filter2D(img1, -1, window)[5:-5, 5:-5]  # valid\n",
        "    mu2 = cv2.filter2D(img2, -1, window)[5:-5, 5:-5]\n",
        "    mu1_sq = mu1**2\n",
        "    mu2_sq = mu2**2\n",
        "    mu1_mu2 = mu1 * mu2\n",
        "    sigma1_sq = cv2.filter2D(img1**2, -1, window)[5:-5, 5:-5] - mu1_sq\n",
        "    sigma2_sq = cv2.filter2D(img2**2, -1, window)[5:-5, 5:-5] - mu2_sq\n",
        "    sigma12 = cv2.filter2D(img1 * img2, -1, window)[5:-5, 5:-5] - mu1_mu2\n",
        "\n",
        "    ssim_map = ((2 * mu1_mu2 + C1) * (2 * sigma12 + C2)) / ((mu1_sq + mu2_sq + C1) *\n",
        "                                                            (sigma1_sq + sigma2_sq + C2))\n",
        "    return ssim_map.mean()\n",
        "\n",
        "\n",
        "def calculate_ssim(img1, img2):\n",
        "    '''calculate SSIM\n",
        "    the same outputs as MATLAB's\n",
        "    img1, img2: [0, 255]\n",
        "    '''\n",
        "    if not img1.shape == img2.shape:\n",
        "        raise ValueError('Input images must have the same dimensions.')\n",
        "    if img1.ndim == 2:\n",
        "        return ssim(img1, img2)\n",
        "    elif img1.ndim == 3:\n",
        "        if img1.shape[2] == 3:\n",
        "            ssims = []\n",
        "            for i in range(3):\n",
        "                ssims.append(ssim(img1, img2))\n",
        "            return np.array(ssims).mean()\n",
        "        elif img1.shape[2] == 1:\n",
        "            return ssim(np.squeeze(img1), np.squeeze(img2))\n",
        "    else:\n",
        "        raise ValueError('Wrong input image dimensions.')\n",
        "\t\t"
      ],
      "metadata": {
        "id": "LG-Jy9StP_PS"
      },
      "execution_count": null,
      "outputs": []
    },
    {
      "cell_type": "code",
      "source": [
        "for img in dataset:\n",
        "  w2d(img)"
      ],
      "metadata": {
        "colab": {
          "base_uri": "https://localhost:8080/"
        },
        "id": "C8DuSSDFAGLW",
        "outputId": "03b346d9-2b94-4163-f5cb-a8987cd35ee7"
      },
      "execution_count": null,
      "outputs": [
        {
          "output_type": "stream",
          "name": "stderr",
          "text": [
            "/usr/local/lib/python3.7/dist-packages/ipykernel_launcher.py:7: DeprecationWarning: `np.float` is a deprecated alias for the builtin `float`. To silence this warning, use `float` by itself. Doing this will not modify any behavior and is safe. If you specifically wanted the numpy scalar type, use `np.float64` here.\n",
            "Deprecated in NumPy 1.20; for more details and guidance: https://numpy.org/devdocs/release/1.20.0-notes.html#deprecations\n",
            "  import sys\n"
          ]
        },
        {
          "output_type": "stream",
          "name": "stdout",
          "text": [
            "[54. 76. 97.]\n",
            "[14. 25. 34.]\n",
            "[255.]\n",
            "[255.]\n",
            "[120.  89.  59.]\n",
            "[115.  80.  53.]\n",
            "[255.]\n",
            "[255.]\n",
            "[237. 207. 188.]\n",
            "[237. 206. 185.]\n",
            "[255.]\n",
            "[255.]\n",
            "[84. 80. 56.]\n",
            "[100. 100. 112.]\n",
            "[255.]\n",
            "[255.]\n",
            "[39. 37. 44.]\n",
            "[44. 42. 53.]\n",
            "[255.]\n",
            "[255.]\n",
            "[234. 233. 233.]\n",
            "[235. 235. 235.]\n",
            "[255.]\n",
            "[255.]\n",
            "[226. 239. 248.]\n",
            "[226. 239. 248.]\n",
            "[255.]\n",
            "[255.]\n",
            "[ 56. 127. 155.]\n",
            "[ 56. 131. 160.]\n",
            "[255.]\n",
            "[255.]\n",
            "[116.  50.  23.]\n",
            "[176. 117. 142.]\n",
            "[255.]\n",
            "[255.]\n",
            "[150. 180. 224.]\n",
            "[152. 181. 225.]\n",
            "[255.]\n",
            "[255.]\n",
            "[  4.  56. 128.]\n",
            "[  3.  56. 129.]\n",
            "[255.]\n",
            "[255.]\n",
            "[182.  62.  74.]\n",
            "[176.  55.  65.]\n",
            "[255.]\n",
            "[255.]\n",
            "[175. 168. 132.]\n",
            "[173. 162. 131.]\n",
            "[255.]\n",
            "[255.]\n",
            "[165. 207. 249.]\n",
            "[165. 207. 250.]\n",
            "[255.]\n",
            "[255.]\n",
            "[163. 155. 150.]\n",
            "[153. 151. 151.]\n",
            "[255.]\n",
            "[255.]\n"
          ]
        }
      ]
    },
    {
      "cell_type": "code",
      "source": [
        "size = 2048\n",
        "print('Image','\\t\\t\\t','PSNR','\\t\\t\\t','SSMI')\n",
        "for img in dataset:\n",
        "  o_image = './output/'+img[0]\n",
        "  src = np.array(Image.open(o_image).resize((size, size), 1))\n",
        "  i_image = img[1]\n",
        "  des = np.array(Image.open(i_image).resize((size, size), 1))\n",
        "  psnr = calculate_psnr(src,des)\n",
        "  ssmi = calculate_ssim(src,des)\n",
        "  print(img[0],'\\t',psnr,'\\t',ssmi)"
      ],
      "metadata": {
        "colab": {
          "base_uri": "https://localhost:8080/"
        },
        "id": "hjnqBvAxQPDw",
        "outputId": "76e6807e-a73d-452e-a591-089e19f18685"
      },
      "execution_count": null,
      "outputs": [
        {
          "output_type": "stream",
          "name": "stdout",
          "text": [
            "Image \t\t\t PSNR \t\t\t SSMI\n",
            "00007_TE_1472x976.png \t 31.003304567864824 \t 0.8833856836935611\n",
            "00011_TE_1744x1160.png \t 30.907708168891006 \t 0.9084322823510109\n",
            "00010_TE_2000x1128.png \t 30.935113027913456 \t 0.8610820191969663\n",
            "00009_TE_1976x1312.png \t 31.041740398907457 \t 0.9270979120974236\n",
            "00004_TE_1808x1352.png \t 30.870326548357422 \t 0.8976787094591029\n",
            "00008_TE_1912x1272.png \t 31.089445431413818 \t 0.8744052811719928\n",
            "00003_TE_1944x1296.png \t 31.17271431760976 \t 0.865963493480829\n",
            "00001_TE_2096x1400.png \t 31.314902876970073 \t 0.8892013697996527\n",
            "00013_TE_1920x1280.png \t 30.925377297601187 \t 0.8777809945993013\n",
            "00006_TE_1544x1120.png \t 30.959790941838623 \t 0.87458990032375\n",
            "00005_TE_1336x872.png \t 31.25138298371425 \t 0.8490067171494199\n",
            "00012_TE_1512x2016.png \t 30.990565654828814 \t 0.8842616261680248\n",
            "00002_TE_2144x1424.png \t 30.947140568178092 \t 0.8783449055527738\n",
            "00014_TE_3680x2456.png \t 30.942116335112782 \t 0.8661662995588381\n"
          ]
        }
      ]
    },
    {
      "cell_type": "code",
      "source": [
        ""
      ],
      "metadata": {
        "id": "vze69dnqCll9"
      },
      "execution_count": null,
      "outputs": []
    }
  ],
  "metadata": {
    "accelerator": "GPU",
    "colab": {
      "collapsed_sections": [],
      "name": "Watermarking_color.ipynb",
      "provenance": []
    },
    "gpuClass": "standard",
    "kernelspec": {
      "display_name": "Python 3",
      "language": "python",
      "name": "python3"
    },
    "language_info": {
      "codemirror_mode": {
        "name": "ipython",
        "version": 3
      },
      "file_extension": ".py",
      "mimetype": "text/x-python",
      "name": "python",
      "nbconvert_exporter": "python",
      "pygments_lexer": "ipython3",
      "version": "3.8.5"
    }
  },
  "nbformat": 4,
  "nbformat_minor": 0
}